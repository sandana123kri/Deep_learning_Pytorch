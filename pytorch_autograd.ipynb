{
  "nbformat": 4,
  "nbformat_minor": 0,
  "metadata": {
    "colab": {
      "provenance": [],
      "authorship_tag": "ABX9TyOEDNbmUSKBjxB0tAsDrSE3",
      "include_colab_link": true
    },
    "kernelspec": {
      "name": "python3",
      "display_name": "Python 3"
    },
    "language_info": {
      "name": "python"
    }
  },
  "cells": [
    {
      "cell_type": "markdown",
      "metadata": {
        "id": "view-in-github",
        "colab_type": "text"
      },
      "source": [
        "<a href=\"https://colab.research.google.com/github/sandana123kri/Deep_learning_Pytorch/blob/main/pytorch_autograd.ipynb\" target=\"_parent\"><img src=\"https://colab.research.google.com/assets/colab-badge.svg\" alt=\"Open In Colab\"/></a>"
      ]
    },
    {
      "cell_type": "markdown",
      "source": [
        "**Example 1:**"
      ],
      "metadata": {
        "id": "69eGP3-iBAQf"
      }
    },
    {
      "cell_type": "markdown",
      "source": [
        "Calculating gradient for a simple equation"
      ],
      "metadata": {
        "id": "HSM24AHoBFvg"
      }
    },
    {
      "cell_type": "code",
      "execution_count": 1,
      "metadata": {
        "id": "z339WdQrva1n"
      },
      "outputs": [],
      "source": [
        "def dy_dx(x):\n",
        "  return 2*x"
      ]
    },
    {
      "cell_type": "code",
      "source": [
        "dy_dx(3)"
      ],
      "metadata": {
        "colab": {
          "base_uri": "https://localhost:8080/"
        },
        "id": "F1pG7DHmvtSM",
        "outputId": "99f9bbde-37c2-437e-9677-a43f1e56bfad"
      },
      "execution_count": 2,
      "outputs": [
        {
          "output_type": "execute_result",
          "data": {
            "text/plain": [
              "6"
            ]
          },
          "metadata": {},
          "execution_count": 2
        }
      ]
    },
    {
      "cell_type": "markdown",
      "source": [
        "Using Autograd"
      ],
      "metadata": {
        "id": "Ff3oyEqlysoK"
      }
    },
    {
      "cell_type": "code",
      "source": [
        "import torch"
      ],
      "metadata": {
        "id": "z7z5IDUoyzMb"
      },
      "execution_count": 5,
      "outputs": []
    },
    {
      "cell_type": "code",
      "source": [
        "x=torch.tensor(3.0,requires_grad=True)"
      ],
      "metadata": {
        "id": "G7-5tqIjy965"
      },
      "execution_count": 6,
      "outputs": []
    },
    {
      "cell_type": "code",
      "source": [
        "y=x**2\n",
        "print(x)\n",
        "print(y)"
      ],
      "metadata": {
        "colab": {
          "base_uri": "https://localhost:8080/"
        },
        "id": "fDJJk9fFzQ7C",
        "outputId": "706127b9-7828-4d71-9d4b-51e9ba44a70d"
      },
      "execution_count": 7,
      "outputs": [
        {
          "output_type": "stream",
          "name": "stdout",
          "text": [
            "tensor(3., requires_grad=True)\n",
            "tensor(9., grad_fn=<PowBackward0>)\n"
          ]
        }
      ]
    },
    {
      "cell_type": "code",
      "source": [
        "y.backward()"
      ],
      "metadata": {
        "id": "2KxFwux0z4Rj"
      },
      "execution_count": 8,
      "outputs": []
    },
    {
      "cell_type": "code",
      "source": [
        "x.grad"
      ],
      "metadata": {
        "colab": {
          "base_uri": "https://localhost:8080/"
        },
        "id": "NOhoPIuWz7SN",
        "outputId": "1c8f48bb-c40c-4d85-ae78-340185c3f891"
      },
      "execution_count": 9,
      "outputs": [
        {
          "output_type": "execute_result",
          "data": {
            "text/plain": [
              "tensor(6.)"
            ]
          },
          "metadata": {},
          "execution_count": 9
        }
      ]
    },
    {
      "cell_type": "markdown",
      "source": [
        "**Example 2**"
      ],
      "metadata": {
        "id": "8XdF9cY2ywFv"
      }
    },
    {
      "cell_type": "markdown",
      "source": [
        "Calculating gradient for a chain of equation"
      ],
      "metadata": {
        "id": "JLMPUjjmA5bC"
      }
    },
    {
      "cell_type": "code",
      "source": [
        "#### y=x^2\n",
        "### z=sin(y)\n",
        "import math\n",
        "\n",
        "def dz_dx(x):\n",
        "  return 2*x*math.cos(x**2)"
      ],
      "metadata": {
        "id": "kJM2K0Yevvq3"
      },
      "execution_count": 3,
      "outputs": []
    },
    {
      "cell_type": "code",
      "source": [
        "dz_dx(2)"
      ],
      "metadata": {
        "colab": {
          "base_uri": "https://localhost:8080/"
        },
        "id": "vSH6L8JfwEFf",
        "outputId": "1d5a99e0-bd15-47b9-c0b0-6b31d5174962"
      },
      "execution_count": 4,
      "outputs": [
        {
          "output_type": "execute_result",
          "data": {
            "text/plain": [
              "-2.6145744834544478"
            ]
          },
          "metadata": {},
          "execution_count": 4
        }
      ]
    },
    {
      "cell_type": "code",
      "source": [
        "x=torch.tensor(3.0,requires_grad=True)"
      ],
      "metadata": {
        "id": "bqmKo1y8wGlK"
      },
      "execution_count": 10,
      "outputs": []
    },
    {
      "cell_type": "code",
      "source": [
        "y=x**2"
      ],
      "metadata": {
        "id": "XK9G13nR0dEh"
      },
      "execution_count": 11,
      "outputs": []
    },
    {
      "cell_type": "code",
      "source": [
        "z=torch.sin(y)"
      ],
      "metadata": {
        "id": "TZR5jUKE0g5_"
      },
      "execution_count": 12,
      "outputs": []
    },
    {
      "cell_type": "code",
      "source": [
        "print(x)\n",
        "print(y)\n",
        "print(z)"
      ],
      "metadata": {
        "colab": {
          "base_uri": "https://localhost:8080/"
        },
        "id": "GUnN6KQ50j5c",
        "outputId": "0ee832f4-d831-437b-fa6e-40d96ec5cc13"
      },
      "execution_count": 13,
      "outputs": [
        {
          "output_type": "stream",
          "name": "stdout",
          "text": [
            "tensor(3., requires_grad=True)\n",
            "tensor(9., grad_fn=<PowBackward0>)\n",
            "tensor(0.4121, grad_fn=<SinBackward0>)\n"
          ]
        }
      ]
    },
    {
      "cell_type": "code",
      "source": [
        "z.backward()"
      ],
      "metadata": {
        "id": "dtFbYzCD05Qp"
      },
      "execution_count": 14,
      "outputs": []
    },
    {
      "cell_type": "code",
      "source": [
        "x.grad"
      ],
      "metadata": {
        "colab": {
          "base_uri": "https://localhost:8080/"
        },
        "id": "A-QFs46T1KA2",
        "outputId": "2959cd08-ca42-4c63-f012-c58feb5a38fa"
      },
      "execution_count": 15,
      "outputs": [
        {
          "output_type": "execute_result",
          "data": {
            "text/plain": [
              "tensor(-5.4668)"
            ]
          },
          "metadata": {},
          "execution_count": 15
        }
      ]
    },
    {
      "cell_type": "markdown",
      "source": [
        "**Example 3.**"
      ],
      "metadata": {
        "id": "k-rtYQc92ZZJ"
      }
    },
    {
      "cell_type": "markdown",
      "source": [
        "A neural network model that predicts whether a student with certain CGPA will get placed or not here we are calculating gradient for a student with 6.7 CGPA and not get placed.\n",
        "\n",
        "Loss fun: Binary cross entropy loss\n"
      ],
      "metadata": {
        "id": "a9-ARdaUAV4a"
      }
    },
    {
      "cell_type": "code",
      "source": [
        "import torch\n",
        "\n",
        "x=torch.tensor(6.7)\n",
        "y=torch.tensor(0.0)\n",
        "\n",
        "w=torch.tensor(1.0)\n",
        "b=torch.tensor(0.0)"
      ],
      "metadata": {
        "id": "D4OcR3hf1LX8"
      },
      "execution_count": 16,
      "outputs": []
    },
    {
      "cell_type": "code",
      "source": [
        "#### Binary Cross entropy loss for scalar\n",
        "\n",
        "def binary_cross_entropy_loss(prediction,target):\n",
        "  epsilon= 1e-8  ### to prevent log(0);\n",
        "  prediction= torch.clamp(prediction,epsilon,1-epsilon)\n",
        "  loss=-(target*torch.log(prediction)+(1-target)*torch.log(1-prediction))\n",
        "  return loss"
      ],
      "metadata": {
        "id": "XhZCf40z2ysn"
      },
      "execution_count": 17,
      "outputs": []
    },
    {
      "cell_type": "code",
      "source": [
        "### forward pass\n",
        "\n",
        "z=w*x+b ##weighted sum\n",
        "y_pred=torch.sigmoid(z) ## Predicted probability\n",
        "\n",
        "#### compute binary cross entropy loss\n",
        "loss = binary_cross_entropy_loss(y_pred,y)"
      ],
      "metadata": {
        "id": "TCwRqVEx3kOM"
      },
      "execution_count": 18,
      "outputs": []
    },
    {
      "cell_type": "code",
      "source": [
        "### Derivatives\n",
        "# 1. dL/dy_pred : loss wrt prediction (y_pred)\n",
        "\n",
        "dl_dy_pred=-(y/y_pred)-(1-y)/(1-y_pred)\n",
        "\n",
        "# 2. dy_pred_dz : prediction wrt z (sigmoid derivative)\n",
        "\n",
        "dy_pred_dz=y_pred*(1-y_pred)\n",
        "\n",
        "# 3. dz_dw : z wrt w\n",
        "\n",
        "dz_dw=x\n",
        "\n",
        "# 4. dz_db : z wrt b\n",
        "\n",
        "dz_db=1\n",
        "\n",
        "dl_dw = dl_dy_pred * dy_pred_dz * dz_dw\n",
        "dl_db = dl_dy_pred * dy_pred_dz * dz_db"
      ],
      "metadata": {
        "id": "E9t4ZZB14K8H"
      },
      "execution_count": 19,
      "outputs": []
    },
    {
      "cell_type": "code",
      "source": [
        "print(\"manual gradient loss wrt weight: \",dl_dw)\n",
        "print(\"manual gradient loss wrt bias: \",dl_db)"
      ],
      "metadata": {
        "colab": {
          "base_uri": "https://localhost:8080/"
        },
        "id": "HO6q4DYB5Z_c",
        "outputId": "b687401f-04e3-4c11-c0e3-8f1514031ddf"
      },
      "execution_count": 21,
      "outputs": [
        {
          "output_type": "stream",
          "name": "stdout",
          "text": [
            "manual gradient loss wrt weight:  tensor(-6.6918)\n",
            "manual gradient loss wrt bias:  tensor(-0.9988)\n"
          ]
        }
      ]
    },
    {
      "cell_type": "markdown",
      "source": [
        "Using Autograd"
      ],
      "metadata": {
        "id": "D68IL-sQ6Kt6"
      }
    },
    {
      "cell_type": "code",
      "source": [
        "x=torch.tensor(6.7)\n",
        "y=torch.tensor(0.0)\n",
        "\n",
        "w=torch.tensor(1.0,requires_grad=True)\n",
        "b=torch.tensor(0.0,requires_grad=True)"
      ],
      "metadata": {
        "id": "cAkjKMRp5oG_"
      },
      "execution_count": 23,
      "outputs": []
    },
    {
      "cell_type": "code",
      "source": [
        "print(w)\n",
        "print(b)"
      ],
      "metadata": {
        "colab": {
          "base_uri": "https://localhost:8080/"
        },
        "id": "Emz1njmX6EEK",
        "outputId": "e9d67261-bce9-4af9-f722-9269f5ddbb44"
      },
      "execution_count": 24,
      "outputs": [
        {
          "output_type": "stream",
          "name": "stdout",
          "text": [
            "tensor(1., requires_grad=True)\n",
            "tensor(0., requires_grad=True)\n"
          ]
        }
      ]
    },
    {
      "cell_type": "code",
      "source": [
        "z=w*x+b\n",
        "z"
      ],
      "metadata": {
        "colab": {
          "base_uri": "https://localhost:8080/"
        },
        "id": "jytTHZFV6RVq",
        "outputId": "d79cb179-5ab7-4f7e-88d1-4ef86d4db899"
      },
      "execution_count": 25,
      "outputs": [
        {
          "output_type": "execute_result",
          "data": {
            "text/plain": [
              "tensor(6.7000, grad_fn=<AddBackward0>)"
            ]
          },
          "metadata": {},
          "execution_count": 25
        }
      ]
    },
    {
      "cell_type": "code",
      "source": [
        "y_pred=torch.sigmoid(z)\n",
        "y_pred"
      ],
      "metadata": {
        "colab": {
          "base_uri": "https://localhost:8080/"
        },
        "id": "Nye_J5Mh6YWg",
        "outputId": "4fe6f913-02ed-4caf-c58a-75aec66d3722"
      },
      "execution_count": 26,
      "outputs": [
        {
          "output_type": "execute_result",
          "data": {
            "text/plain": [
              "tensor(0.9988, grad_fn=<SigmoidBackward0>)"
            ]
          },
          "metadata": {},
          "execution_count": 26
        }
      ]
    },
    {
      "cell_type": "code",
      "source": [
        "loss = binary_cross_entropy_loss(y_pred,y)\n",
        "loss"
      ],
      "metadata": {
        "colab": {
          "base_uri": "https://localhost:8080/"
        },
        "id": "pzGfeBgr6i5L",
        "outputId": "5338aabd-33d1-4b72-a6a1-c2b73046399d"
      },
      "execution_count": 27,
      "outputs": [
        {
          "output_type": "execute_result",
          "data": {
            "text/plain": [
              "tensor(6.7012, grad_fn=<NegBackward0>)"
            ]
          },
          "metadata": {},
          "execution_count": 27
        }
      ]
    },
    {
      "cell_type": "code",
      "source": [
        "loss.backward()"
      ],
      "metadata": {
        "id": "HUVUXjO46tXo"
      },
      "execution_count": 28,
      "outputs": []
    },
    {
      "cell_type": "code",
      "source": [
        "print(w.grad)\n",
        "print(b.grad)"
      ],
      "metadata": {
        "colab": {
          "base_uri": "https://localhost:8080/"
        },
        "id": "HWm9gOyQ7A52",
        "outputId": "ffb2e5a2-09e4-435d-fadb-a2a5ac436930"
      },
      "execution_count": 29,
      "outputs": [
        {
          "output_type": "stream",
          "name": "stdout",
          "text": [
            "tensor(6.6918)\n",
            "tensor(0.9988)\n"
          ]
        }
      ]
    },
    {
      "cell_type": "code",
      "source": [
        "x=torch.tensor([1.0,2.0,3.0],requires_grad=True)\n",
        "x"
      ],
      "metadata": {
        "colab": {
          "base_uri": "https://localhost:8080/"
        },
        "id": "MED9vUzN7Kz-",
        "outputId": "7e4004a1-b924-4280-99bc-9cc3d222ea1b"
      },
      "execution_count": 30,
      "outputs": [
        {
          "output_type": "execute_result",
          "data": {
            "text/plain": [
              "tensor([1., 2., 3.], requires_grad=True)"
            ]
          },
          "metadata": {},
          "execution_count": 30
        }
      ]
    },
    {
      "cell_type": "code",
      "source": [
        "y=(x**2).mean()\n",
        "y"
      ],
      "metadata": {
        "colab": {
          "base_uri": "https://localhost:8080/"
        },
        "id": "EsKrCQU37tA_",
        "outputId": "cef1cd74-64e0-4eed-d236-cd76739909f3"
      },
      "execution_count": 31,
      "outputs": [
        {
          "output_type": "execute_result",
          "data": {
            "text/plain": [
              "tensor(4.6667, grad_fn=<MeanBackward0>)"
            ]
          },
          "metadata": {},
          "execution_count": 31
        }
      ]
    },
    {
      "cell_type": "code",
      "source": [
        "y.backward()"
      ],
      "metadata": {
        "id": "AhRRZ1Px7ydB"
      },
      "execution_count": 32,
      "outputs": []
    },
    {
      "cell_type": "code",
      "source": [
        "x.grad"
      ],
      "metadata": {
        "colab": {
          "base_uri": "https://localhost:8080/"
        },
        "id": "Pl0rXFir75n0",
        "outputId": "5af23eb8-d876-4ed4-e41f-a84d2087cad3"
      },
      "execution_count": 33,
      "outputs": [
        {
          "output_type": "execute_result",
          "data": {
            "text/plain": [
              "tensor([0.6667, 1.3333, 2.0000])"
            ]
          },
          "metadata": {},
          "execution_count": 33
        }
      ]
    },
    {
      "cell_type": "markdown",
      "source": [
        "**Clearing Grad**"
      ],
      "metadata": {
        "id": "92x4RVtWAPJ3"
      }
    },
    {
      "cell_type": "code",
      "source": [
        "### clearing grad\n",
        "\n",
        "x=torch.tensor(2.0,requires_grad=True)\n",
        "y=x**2"
      ],
      "metadata": {
        "id": "DHz4linF761j"
      },
      "execution_count": 35,
      "outputs": []
    },
    {
      "cell_type": "code",
      "source": [
        "y.backward()\n",
        "x.grad"
      ],
      "metadata": {
        "colab": {
          "base_uri": "https://localhost:8080/"
        },
        "id": "VJgTP9dj8lrf",
        "outputId": "7f1845b9-0175-46b9-93c8-eb1bba0bcc91"
      },
      "execution_count": 36,
      "outputs": [
        {
          "output_type": "execute_result",
          "data": {
            "text/plain": [
              "tensor(4.)"
            ]
          },
          "metadata": {},
          "execution_count": 36
        }
      ]
    },
    {
      "cell_type": "code",
      "source": [
        "\n",
        "y=x**2\n",
        "\n",
        "\n",
        "y.backward()\n",
        "x.grad"
      ],
      "metadata": {
        "colab": {
          "base_uri": "https://localhost:8080/"
        },
        "id": "cEfI6jDE8ub8",
        "outputId": "bd4c7d36-065e-4278-f4c8-8eae7755c602"
      },
      "execution_count": 40,
      "outputs": [
        {
          "output_type": "execute_result",
          "data": {
            "text/plain": [
              "tensor(8.)"
            ]
          },
          "metadata": {},
          "execution_count": 40
        }
      ]
    },
    {
      "cell_type": "code",
      "source": [
        "x.grad.zero_()"
      ],
      "metadata": {
        "colab": {
          "base_uri": "https://localhost:8080/"
        },
        "id": "tC0841pW835R",
        "outputId": "039efce8-441d-454c-c4dc-a77b0b1eed96"
      },
      "execution_count": 41,
      "outputs": [
        {
          "output_type": "execute_result",
          "data": {
            "text/plain": [
              "tensor(0.)"
            ]
          },
          "metadata": {},
          "execution_count": 41
        }
      ]
    },
    {
      "cell_type": "code",
      "source": [
        "y=x**2\n",
        "\n",
        "\n",
        "y.backward()\n",
        "x.grad"
      ],
      "metadata": {
        "colab": {
          "base_uri": "https://localhost:8080/"
        },
        "id": "oE1FbzE69yjB",
        "outputId": "51cc00cf-e16b-49ba-8f38-7f6aab8e0aab"
      },
      "execution_count": 42,
      "outputs": [
        {
          "output_type": "execute_result",
          "data": {
            "text/plain": [
              "tensor(4.)"
            ]
          },
          "metadata": {},
          "execution_count": 42
        }
      ]
    },
    {
      "cell_type": "markdown",
      "source": [
        "**Disable gradient tracking**"
      ],
      "metadata": {
        "id": "4lgYa-O--qyF"
      }
    },
    {
      "cell_type": "code",
      "source": [
        "x=torch.tensor(2.0,requires_grad=True)\n",
        "y=x**2\n",
        "y.backward()\n",
        "x.grad"
      ],
      "metadata": {
        "colab": {
          "base_uri": "https://localhost:8080/"
        },
        "id": "PiLtYxur-us0",
        "outputId": "01937aaa-7671-4ea3-f581-80e3dd916392"
      },
      "execution_count": 46,
      "outputs": [
        {
          "output_type": "execute_result",
          "data": {
            "text/plain": [
              "tensor(4.)"
            ]
          },
          "metadata": {},
          "execution_count": 46
        }
      ]
    },
    {
      "cell_type": "code",
      "source": [
        "## option 1 - requires_grad_=False\n",
        "x.requires_grad_(False)\n",
        "x"
      ],
      "metadata": {
        "colab": {
          "base_uri": "https://localhost:8080/"
        },
        "id": "MMKX2Bcf91-4",
        "outputId": "e9b7bf92-ca49-45b9-f815-100e132daf40"
      },
      "execution_count": 47,
      "outputs": [
        {
          "output_type": "execute_result",
          "data": {
            "text/plain": [
              "tensor(2.)"
            ]
          },
          "metadata": {},
          "execution_count": 47
        }
      ]
    },
    {
      "cell_type": "code",
      "source": [
        "## option 2 - detach()\n",
        "x=torch.tensor(2.0,requires_grad=True)\n",
        "y=x**2\n",
        "y.backward()\n",
        "x.grad\n",
        "z=x.detach()\n",
        "z\n"
      ],
      "metadata": {
        "colab": {
          "base_uri": "https://localhost:8080/"
        },
        "id": "KZMWIRxB-8X3",
        "outputId": "781de2cf-b603-4c56-e07b-e1461bbb2c52"
      },
      "execution_count": 48,
      "outputs": [
        {
          "output_type": "execute_result",
          "data": {
            "text/plain": [
              "tensor(2.)"
            ]
          },
          "metadata": {},
          "execution_count": 48
        }
      ]
    },
    {
      "cell_type": "code",
      "source": [
        "y=x**2\n",
        "y"
      ],
      "metadata": {
        "colab": {
          "base_uri": "https://localhost:8080/"
        },
        "id": "f7X6LI7W_iVn",
        "outputId": "43432224-de0e-4a36-f047-65843651e6b2"
      },
      "execution_count": 49,
      "outputs": [
        {
          "output_type": "execute_result",
          "data": {
            "text/plain": [
              "tensor(4., grad_fn=<PowBackward0>)"
            ]
          },
          "metadata": {},
          "execution_count": 49
        }
      ]
    },
    {
      "cell_type": "code",
      "source": [
        "y1=z**2\n",
        "y1"
      ],
      "metadata": {
        "colab": {
          "base_uri": "https://localhost:8080/"
        },
        "id": "kqExHizb_sPB",
        "outputId": "0b28e8cf-43a2-4a11-fa06-dae4f9090919"
      },
      "execution_count": 50,
      "outputs": [
        {
          "output_type": "execute_result",
          "data": {
            "text/plain": [
              "tensor(4.)"
            ]
          },
          "metadata": {},
          "execution_count": 50
        }
      ]
    },
    {
      "cell_type": "code",
      "source": [
        "## option 3 - torch.no_grad()\n",
        "\n",
        "with torch.no_grad():\n",
        "  y=x**2\n",
        "y"
      ],
      "metadata": {
        "colab": {
          "base_uri": "https://localhost:8080/"
        },
        "id": "-brvpHFN_unG",
        "outputId": "6fe0862a-8c5d-41ee-fb22-e9dd33e9382c"
      },
      "execution_count": 51,
      "outputs": [
        {
          "output_type": "execute_result",
          "data": {
            "text/plain": [
              "tensor(4.)"
            ]
          },
          "metadata": {},
          "execution_count": 51
        }
      ]
    },
    {
      "cell_type": "code",
      "source": [],
      "metadata": {
        "id": "-r6ysFZVACWk"
      },
      "execution_count": null,
      "outputs": []
    }
  ]
}