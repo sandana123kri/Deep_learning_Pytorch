{
  "nbformat": 4,
  "nbformat_minor": 0,
  "metadata": {
    "colab": {
      "provenance": [],
      "authorship_tag": "ABX9TyN9N4Hck3wNf7rTPqntQxck",
      "include_colab_link": true
    },
    "kernelspec": {
      "name": "python3",
      "display_name": "Python 3"
    },
    "language_info": {
      "name": "python"
    }
  },
  "cells": [
    {
      "cell_type": "markdown",
      "metadata": {
        "id": "view-in-github",
        "colab_type": "text"
      },
      "source": [
        "<a href=\"https://colab.research.google.com/github/sandana123kri/Deep_learning_Pytorch/blob/main/Pytorch_nn_module.ipynb\" target=\"_parent\"><img src=\"https://colab.research.google.com/assets/colab-badge.svg\" alt=\"Open In Colab\"/></a>"
      ]
    },
    {
      "cell_type": "markdown",
      "source": [
        "**A Simple Neural Network with one neuron and 5 features**"
      ],
      "metadata": {
        "id": "eiDGhjldYzHo"
      }
    },
    {
      "cell_type": "code",
      "execution_count": 1,
      "metadata": {
        "id": "UQtGinaoNM1L"
      },
      "outputs": [],
      "source": [
        "### Create Model Class\n",
        "\n",
        "import torch\n",
        "import torch.nn as nn\n",
        "\n",
        "class Model(nn.Module):\n",
        "    def __init__(self,num_features):\n",
        "        super().__init__()  #### to call the constructor of parent class\n",
        "        self.linear = nn.Linear(num_features,1)\n",
        "        self.sigmoid = nn.Sigmoid()\n",
        "    def forward(self,features):\n",
        "        out = self.linear(features)\n",
        "        out = self.sigmoid(out)\n",
        "        return out"
      ]
    },
    {
      "cell_type": "code",
      "source": [
        "### Create a dataset\n",
        "\n",
        "features=torch.rand(10,5)\n",
        "\n",
        "model= Model(features.shape[1]) ##Model(5)\n",
        "\n",
        "#### forward pass\n",
        "model(features)  ## Recommended\n",
        "### Valid but not Recommended model.forward(features)"
      ],
      "metadata": {
        "colab": {
          "base_uri": "https://localhost:8080/"
        },
        "id": "zzQPhMhnWUFa",
        "outputId": "d17f3174-7ff5-4338-b4d1-5fa5b228ab7d"
      },
      "execution_count": 2,
      "outputs": [
        {
          "output_type": "execute_result",
          "data": {
            "text/plain": [
              "tensor([[0.2090],\n",
              "        [0.2437],\n",
              "        [0.3019],\n",
              "        [0.3072],\n",
              "        [0.3016],\n",
              "        [0.2926],\n",
              "        [0.3314],\n",
              "        [0.2730],\n",
              "        [0.2820],\n",
              "        [0.2280]], grad_fn=<SigmoidBackward0>)"
            ]
          },
          "metadata": {},
          "execution_count": 2
        }
      ]
    },
    {
      "cell_type": "code",
      "source": [
        "### Show model weights\n",
        "\n",
        "model.linear.weight"
      ],
      "metadata": {
        "colab": {
          "base_uri": "https://localhost:8080/"
        },
        "id": "PdJ4cpokXVd1",
        "outputId": "e738c7a2-474f-48dd-b211-b153818c53a0"
      },
      "execution_count": 3,
      "outputs": [
        {
          "output_type": "execute_result",
          "data": {
            "text/plain": [
              "Parameter containing:\n",
              "tensor([[-0.2266, -0.2905, -0.1330, -0.4185, -0.4375]], requires_grad=True)"
            ]
          },
          "metadata": {},
          "execution_count": 3
        }
      ]
    },
    {
      "cell_type": "code",
      "source": [
        "### Show model bias\n",
        "\n",
        "model.linear.bias"
      ],
      "metadata": {
        "colab": {
          "base_uri": "https://localhost:8080/"
        },
        "id": "Q9wyKf9pXkCU",
        "outputId": "c75433a6-339e-49f3-f1dc-e382bd5a58ad"
      },
      "execution_count": 4,
      "outputs": [
        {
          "output_type": "execute_result",
          "data": {
            "text/plain": [
              "Parameter containing:\n",
              "tensor([-0.1678], requires_grad=True)"
            ]
          },
          "metadata": {},
          "execution_count": 4
        }
      ]
    },
    {
      "cell_type": "code",
      "source": [
        "!pip install torchinfo"
      ],
      "metadata": {
        "colab": {
          "base_uri": "https://localhost:8080/"
        },
        "id": "gdLvVAsvX86a",
        "outputId": "9ae523b6-2cc0-4d15-92c0-e2aa500bebec"
      },
      "execution_count": 5,
      "outputs": [
        {
          "output_type": "stream",
          "name": "stdout",
          "text": [
            "Collecting torchinfo\n",
            "  Downloading torchinfo-1.8.0-py3-none-any.whl.metadata (21 kB)\n",
            "Downloading torchinfo-1.8.0-py3-none-any.whl (23 kB)\n",
            "Installing collected packages: torchinfo\n",
            "Successfully installed torchinfo-1.8.0\n"
          ]
        }
      ]
    },
    {
      "cell_type": "code",
      "source": [
        "from torchinfo import summary\n",
        "\n",
        "summary(model,input_size=(10,5))"
      ],
      "metadata": {
        "colab": {
          "base_uri": "https://localhost:8080/"
        },
        "id": "U0odFsCrYDYm",
        "outputId": "c37e146e-0517-469e-97f6-7309d719fec5"
      },
      "execution_count": 6,
      "outputs": [
        {
          "output_type": "execute_result",
          "data": {
            "text/plain": [
              "==========================================================================================\n",
              "Layer (type:depth-idx)                   Output Shape              Param #\n",
              "==========================================================================================\n",
              "Model                                    [10, 1]                   --\n",
              "├─Linear: 1-1                            [10, 1]                   6\n",
              "├─Sigmoid: 1-2                           [10, 1]                   --\n",
              "==========================================================================================\n",
              "Total params: 6\n",
              "Trainable params: 6\n",
              "Non-trainable params: 0\n",
              "Total mult-adds (Units.MEGABYTES): 0.00\n",
              "==========================================================================================\n",
              "Input size (MB): 0.00\n",
              "Forward/backward pass size (MB): 0.00\n",
              "Params size (MB): 0.00\n",
              "Estimated Total Size (MB): 0.00\n",
              "=========================================================================================="
            ]
          },
          "metadata": {},
          "execution_count": 6
        }
      ]
    },
    {
      "cell_type": "markdown",
      "source": [
        "**Model 2: A neural network with 5 features. 1 hidden layer containing 3 neurons and 1 output layer with 1 Neuron**\n",
        "\n",
        "Activation function:\n",
        "   Hidden Layer: ReLU\n",
        "   Output Layer: Sigmoid"
      ],
      "metadata": {
        "id": "XLG_3hr5Y-xi"
      }
    },
    {
      "cell_type": "code",
      "source": [
        "class Model2(nn.Module):\n",
        "    def __init__(self,num_features):\n",
        "        super().__init__()  #### to call the constructor of parent class\n",
        "        self.linear1 = nn.Linear(num_features,3)\n",
        "        self.relu = nn.ReLU()\n",
        "        self.linear2 = nn.Linear(3,1)\n",
        "        self.sigmoid = nn.Sigmoid()\n",
        "    def forward(self,features):\n",
        "        out = self.linear1(features)\n",
        "        out = self.relu(out)\n",
        "        out = self.linear2(out)\n",
        "        out = self.sigmoid(out)\n",
        "        return out"
      ],
      "metadata": {
        "id": "ch7QlPwfYeif"
      },
      "execution_count": 7,
      "outputs": []
    },
    {
      "cell_type": "code",
      "source": [
        "model2=Model2(features.shape[1])\n",
        "model2(features)"
      ],
      "metadata": {
        "colab": {
          "base_uri": "https://localhost:8080/"
        },
        "id": "_sggOJWUa2Qo",
        "outputId": "8b840e2b-8d4d-44c0-e5a5-5ad6c236380f"
      },
      "execution_count": 8,
      "outputs": [
        {
          "output_type": "execute_result",
          "data": {
            "text/plain": [
              "tensor([[0.4229],\n",
              "        [0.4338],\n",
              "        [0.4418],\n",
              "        [0.4357],\n",
              "        [0.4468],\n",
              "        [0.4387],\n",
              "        [0.4353],\n",
              "        [0.4394],\n",
              "        [0.4248],\n",
              "        [0.4244]], grad_fn=<SigmoidBackward0>)"
            ]
          },
          "metadata": {},
          "execution_count": 8
        }
      ]
    },
    {
      "cell_type": "code",
      "source": [
        "#### Show weights & bias of neural network\n",
        "\n",
        "print(model2.linear1.weight)\n",
        "print(model2.linear2.weight)\n",
        "print(model2.linear1.bias)\n",
        "print(model2.linear2.bias)"
      ],
      "metadata": {
        "colab": {
          "base_uri": "https://localhost:8080/"
        },
        "id": "YKPTQyIaa-hv",
        "outputId": "3630a00c-afb4-49f7-d093-df730af27033"
      },
      "execution_count": 9,
      "outputs": [
        {
          "output_type": "stream",
          "name": "stdout",
          "text": [
            "Parameter containing:\n",
            "tensor([[ 0.3149,  0.4356, -0.2309,  0.3703, -0.2030],\n",
            "        [ 0.3277, -0.2067,  0.0045, -0.2489, -0.0192],\n",
            "        [ 0.2150, -0.0709,  0.0433,  0.3779, -0.0776]], requires_grad=True)\n",
            "Parameter containing:\n",
            "tensor([[-0.2080, -0.3995,  0.3507]], requires_grad=True)\n",
            "Parameter containing:\n",
            "tensor([ 0.3534, -0.1058, -0.2549], requires_grad=True)\n",
            "Parameter containing:\n",
            "tensor([-0.1283], requires_grad=True)\n"
          ]
        }
      ]
    },
    {
      "cell_type": "code",
      "source": [
        "summary(model2,input_size=(10,5))"
      ],
      "metadata": {
        "colab": {
          "base_uri": "https://localhost:8080/"
        },
        "id": "BMxZVZIJbQgy",
        "outputId": "73f8369b-6e4f-46d2-e4a4-37e5ec2166e1"
      },
      "execution_count": 10,
      "outputs": [
        {
          "output_type": "execute_result",
          "data": {
            "text/plain": [
              "==========================================================================================\n",
              "Layer (type:depth-idx)                   Output Shape              Param #\n",
              "==========================================================================================\n",
              "Model2                                   [10, 1]                   --\n",
              "├─Linear: 1-1                            [10, 3]                   18\n",
              "├─ReLU: 1-2                              [10, 3]                   --\n",
              "├─Linear: 1-3                            [10, 1]                   4\n",
              "├─Sigmoid: 1-4                           [10, 1]                   --\n",
              "==========================================================================================\n",
              "Total params: 22\n",
              "Trainable params: 22\n",
              "Non-trainable params: 0\n",
              "Total mult-adds (Units.MEGABYTES): 0.00\n",
              "==========================================================================================\n",
              "Input size (MB): 0.00\n",
              "Forward/backward pass size (MB): 0.00\n",
              "Params size (MB): 0.00\n",
              "Estimated Total Size (MB): 0.00\n",
              "=========================================================================================="
            ]
          },
          "metadata": {},
          "execution_count": 10
        }
      ]
    },
    {
      "cell_type": "markdown",
      "source": [
        "**Model 2: using nn.Sequential**"
      ],
      "metadata": {
        "id": "gaYCbM6Mbgql"
      }
    },
    {
      "cell_type": "code",
      "source": [
        "class Model3(nn.Module):\n",
        "\n",
        "  def __init__(self, num_features):\n",
        "\n",
        "    super().__init__()\n",
        "    self.network = nn.Sequential(\n",
        "        nn.Linear(num_features, 3),\n",
        "        nn.ReLU(),\n",
        "        nn.Linear(3, 1),\n",
        "        nn.Sigmoid()\n",
        "    )\n",
        "\n",
        "  def forward(self, features):\n",
        "\n",
        "    out = self.network(features)\n",
        "\n",
        "    return out"
      ],
      "metadata": {
        "id": "IrhuIMckbdQs"
      },
      "execution_count": 11,
      "outputs": []
    },
    {
      "cell_type": "code",
      "source": [
        "model3=Model3(features.shape[1])\n",
        "model3(features)"
      ],
      "metadata": {
        "colab": {
          "base_uri": "https://localhost:8080/"
        },
        "id": "XvYgsv-AcqQw",
        "outputId": "fb20fc13-a23d-4933-b6cc-c81c8e93f9ea"
      },
      "execution_count": 12,
      "outputs": [
        {
          "output_type": "execute_result",
          "data": {
            "text/plain": [
              "tensor([[0.4515],\n",
              "        [0.4521],\n",
              "        [0.4495],\n",
              "        [0.4372],\n",
              "        [0.4136],\n",
              "        [0.4443],\n",
              "        [0.4702],\n",
              "        [0.4516],\n",
              "        [0.4633],\n",
              "        [0.4521]], grad_fn=<SigmoidBackward0>)"
            ]
          },
          "metadata": {},
          "execution_count": 12
        }
      ]
    },
    {
      "cell_type": "code",
      "source": [
        "#### Show the weights and biases\n",
        "\n",
        "print(model3.network[0].weight)\n",
        "print(model3.network[2].weight)\n",
        "print(model3.network[0].bias)\n",
        "print(model3.network[2].bias)"
      ],
      "metadata": {
        "colab": {
          "base_uri": "https://localhost:8080/"
        },
        "id": "cX7Z73WLc1dg",
        "outputId": "d46ac7ef-8dbc-4633-8c90-c4d4a444e2e1"
      },
      "execution_count": 13,
      "outputs": [
        {
          "output_type": "stream",
          "name": "stdout",
          "text": [
            "Parameter containing:\n",
            "tensor([[ 0.2167, -0.1960,  0.2129, -0.3363, -0.1991],\n",
            "        [-0.3311, -0.0274, -0.3378, -0.0437, -0.4369],\n",
            "        [ 0.3351, -0.2554,  0.3733,  0.0925,  0.2075]], requires_grad=True)\n",
            "Parameter containing:\n",
            "tensor([[-0.0596,  0.4483, -0.5750]], requires_grad=True)\n",
            "Parameter containing:\n",
            "tensor([ 0.3638,  0.3934, -0.3775], requires_grad=True)\n",
            "Parameter containing:\n",
            "tensor([-0.1923], requires_grad=True)\n"
          ]
        }
      ]
    },
    {
      "cell_type": "code",
      "source": [
        "summary(model3,input_size=(10,5))"
      ],
      "metadata": {
        "colab": {
          "base_uri": "https://localhost:8080/"
        },
        "id": "yfjzUIAodEd8",
        "outputId": "d5f0deea-fda4-468d-eab1-786a321becc6"
      },
      "execution_count": 14,
      "outputs": [
        {
          "output_type": "execute_result",
          "data": {
            "text/plain": [
              "==========================================================================================\n",
              "Layer (type:depth-idx)                   Output Shape              Param #\n",
              "==========================================================================================\n",
              "Model3                                   [10, 1]                   --\n",
              "├─Sequential: 1-1                        [10, 1]                   --\n",
              "│    └─Linear: 2-1                       [10, 3]                   18\n",
              "│    └─ReLU: 2-2                         [10, 3]                   --\n",
              "│    └─Linear: 2-3                       [10, 1]                   4\n",
              "│    └─Sigmoid: 2-4                      [10, 1]                   --\n",
              "==========================================================================================\n",
              "Total params: 22\n",
              "Trainable params: 22\n",
              "Non-trainable params: 0\n",
              "Total mult-adds (Units.MEGABYTES): 0.00\n",
              "==========================================================================================\n",
              "Input size (MB): 0.00\n",
              "Forward/backward pass size (MB): 0.00\n",
              "Params size (MB): 0.00\n",
              "Estimated Total Size (MB): 0.00\n",
              "=========================================================================================="
            ]
          },
          "metadata": {},
          "execution_count": 14
        }
      ]
    },
    {
      "cell_type": "code",
      "source": [],
      "metadata": {
        "id": "KTT9taI0eXOg"
      },
      "execution_count": null,
      "outputs": []
    }
  ]
}